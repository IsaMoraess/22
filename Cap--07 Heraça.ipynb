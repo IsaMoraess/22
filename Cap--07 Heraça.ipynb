{
 "cells": [
  {
   "cell_type": "markdown",
   "id": "9d2809cc",
   "metadata": {},
   "source": [
    "# Trabalhado com Heraça de Classes em Pyhton\n",
    "\n",
    "\n",
    "Em Progamaçao Orietada a Objetos (POO), a herança e um comceito que permite criar novas classes a partir de outra classe existente, aproveitando os atributos e metodos da classe origial e adicionando novos atributos e metodos espcificos.\n",
    "\n",
    "A classe original e chamada de classe mãe ou superclasse e a nova classe criada é chamada de classe filha ou  subclasse.\n",
    "\n",
    "A heraça e uma tecica importante em POO porque permite reutilizar o codigo de maneira eficiente. Em vez de criar uma nova classe do zero, a subclassse pode herdar todos os atributos e metodos da superclasse e adicioar apenas o que é necessario. Dessa forma, a superclasse pode se concentrar em fornecer funcionalidades adicionais sem precisar se preocupar com as caracteristicas básicas da classe.\n",
    "\n",
    "Na herança, uma subclasse pode herdar os atributos e metodos da superclasse e substitui-los ou entende-los conforme necessario. Por exemplo, uma subclasse pode ter metodos com o mesmo nome de um metodo da superclasse, mas com o comportameto diferente. "
   ]
  },
  {
   "cell_type": "code",
   "execution_count": 3,
   "id": "5cfaf36d",
   "metadata": {},
   "outputs": [],
   "source": [
    "# Criando classe Animal - Super-classe\n",
    "class Animal:\n",
    "    \n",
    "    def __init__(self):\n",
    "        print(\"Animal criado.\")\n",
    "        \n",
    "    def imprimir(self):\n",
    "        print(\"Este é um animal.\")\n",
    "        \n",
    "    def comer(self):\n",
    "        print(\"Hora de comer.\")\n",
    "        \n",
    "    def emitir_som(self):\n",
    "        pass"
   ]
  },
  {
   "cell_type": "code",
   "execution_count": 4,
   "id": "5af94e23",
   "metadata": {},
   "outputs": [],
   "source": [
    "# Criando a classe Cachorro - Sub-classe\n",
    "class Cachorro(Animal):\n",
    "    \n",
    "    def __init__(self):\n",
    "        Animal.__init__(self)\n",
    "        print(\"Objeto Cachorro criado.\")\n",
    "        \n",
    "        def emitir_som(self):\n",
    "            print(\"Au au!\")"
   ]
  },
  {
   "cell_type": "code",
   "execution_count": 5,
   "id": "f50f3820",
   "metadata": {},
   "outputs": [],
   "source": [
    "# Criando a classe Gato - Sub-classe\n",
    "class Gato(Animal):\n",
    "    \n",
    "    def __init__(self):\n",
    "        Animal.__init__(self)\n",
    "        print(\"Objeto Gato criado.\")\n",
    "        \n",
    "        def emitir_som(self):\n",
    "            print(\"Miau!\")"
   ]
  },
  {
   "cell_type": "code",
   "execution_count": 6,
   "id": "2306258d",
   "metadata": {},
   "outputs": [
    {
     "name": "stdout",
     "output_type": "stream",
     "text": [
      "Animal criado.\n",
      "Objeto Cachorro criado.\n"
     ]
    }
   ],
   "source": [
    "# Criando um objeto (Instanciado a calasse)\n",
    "rex = Cachorro()"
   ]
  },
  {
   "cell_type": "code",
   "execution_count": 7,
   "id": "31aa7bda",
   "metadata": {},
   "outputs": [
    {
     "name": "stdout",
     "output_type": "stream",
     "text": [
      "Animal criado.\n",
      "Objeto Gato criado.\n"
     ]
    }
   ],
   "source": [
    "# Criando um objeto (Instanciado a calasse) \n",
    "zeze = Gato()"
   ]
  },
  {
   "cell_type": "code",
   "execution_count": 13,
   "id": "6ff6840f",
   "metadata": {},
   "outputs": [],
   "source": [
    "rex.emitir_som()"
   ]
  },
  {
   "cell_type": "code",
   "execution_count": 11,
   "id": "da117dff",
   "metadata": {},
   "outputs": [],
   "source": [
    "zeze.emitir_som()"
   ]
  },
  {
   "cell_type": "code",
   "execution_count": 14,
   "id": "14f09e91",
   "metadata": {},
   "outputs": [
    {
     "name": "stdout",
     "output_type": "stream",
     "text": [
      "Este é um animal.\n"
     ]
    }
   ],
   "source": [
    "# Executando o metodo da classe Cachorro (Sub-class)\n",
    "rex.imprimir()"
   ]
  },
  {
   "cell_type": "code",
   "execution_count": 15,
   "id": "7b79acc0",
   "metadata": {},
   "outputs": [
    {
     "name": "stdout",
     "output_type": "stream",
     "text": [
      "Hora de comer.\n"
     ]
    }
   ],
   "source": [
    "# Executando o metodo da classe Animal (Super-class)\n",
    "rex.comer()"
   ]
  },
  {
   "cell_type": "code",
   "execution_count": 16,
   "id": "a01b6fef",
   "metadata": {},
   "outputs": [
    {
     "name": "stdout",
     "output_type": "stream",
     "text": [
      "Hora de comer.\n"
     ]
    }
   ],
   "source": [
    "# Executando o metodo da classe Cachorro (Sub-class)\n",
    "zeze.comer()"
   ]
  },
  {
   "cell_type": "markdown",
   "id": "a67d4d1f",
   "metadata": {},
   "source": [
    "# Fim"
   ]
  }
 ],
 "metadata": {
  "kernelspec": {
   "display_name": "Python 3 (ipykernel)",
   "language": "python",
   "name": "python3"
  },
  "language_info": {
   "codemirror_mode": {
    "name": "ipython",
    "version": 3
   },
   "file_extension": ".py",
   "mimetype": "text/x-python",
   "name": "python",
   "nbconvert_exporter": "python",
   "pygments_lexer": "ipython3",
   "version": "3.9.13"
  }
 },
 "nbformat": 4,
 "nbformat_minor": 5
}
